{
 "cells": [
  {
   "cell_type": "markdown",
   "metadata": {},
   "source": [
    "## 1047. Remove All Adjacent Duplicates In String"
   ]
  },
  {
   "cell_type": "markdown",
   "metadata": {},
   "source": [
    "### __Intuition__:\n",
    "The intuition behind this solution is to use a stack to keep track of the characters in the string. The key idea is to iteratively remove adjacent duplicates from the string by using the stack.\n",
    "\n",
    "### __Approache__:\n",
    "Here's how the algorithm works:\n",
    "\n",
    "1. We initialize an empty stack stack.\n",
    "2. We iterate through the input string s character by character.\n",
    "3. For each character i in s:\n",
    "    - If the stack is not empty and the top element of the stack is the same as the current character i, we remove the top element from the stack. This is because we want to remove adjacent duplicates.\n",
    "    - Otherwise, we push the current character i onto the stack.\n",
    "4. Finally, we return the string formed by joining all the elements in the stack.\n",
    "\n",
    "__Code__\n",
    "```\n",
    "class Solution(object):\n",
    "    def removeDuplicates(self, s):\n",
    "        stack = []\n",
    "        for i in s:\n",
    "            if stack and stack[-1] == i:\n",
    "                stack.pop()\n",
    "            else:\n",
    "                stack.append(i)\n",
    "        return ''.join(stack)\n",
    "        \n",
    "```\n",
    "\n",
    "__Time Complexity__:\n",
    "\n",
    "The time complexity of this solution is O(n), where n is the length of the input string s. This is because we iterate through the string once, and each operation on the stack (push and pop) takes constant time.\n",
    "\n",
    "__Space Complexity__:\n",
    "\n",
    "The space complexity of this solution is also O(n), where n is the length of the input string s. This is because, in the worst case, the stack can grow to the size of the input string (e.g., when the string consists of all the same character)."
   ]
  }
 ],
 "metadata": {
  "kernelspec": {
   "display_name": "Python 3",
   "language": "python",
   "name": "python3"
  },
  "language_info": {
   "name": "python",
   "version": "3.12.1"
  }
 },
 "nbformat": 4,
 "nbformat_minor": 2
}
