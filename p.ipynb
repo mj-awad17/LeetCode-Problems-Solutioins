{
 "cells": [
  {
   "cell_type": "markdown",
   "metadata": {},
   "source": [
    "## 1047. Remove All Adjacent Duplicates In String"
   ]
  },
  {
   "cell_type": "markdown",
   "metadata": {},
   "source": [
    "### Intuition:\n",
    "The intuition behind this solution is to use a stack to keep track of the characters in the string. The key idea is to iteratively remove adjacent duplicates from the string by using the stack.\n",
    "\n",
    "Here's how the algorithm works:\n",
    "\n",
    "1. We initialize an empty stack stack.\n",
    "2. We iterate through the input string s character by character.\n",
    "3. For each character i in s:\n",
    "    - If the stack is not empty and the top element of the stack is the same as the current character i, we remove the top element from the stack. This is because we want to remove adjacent duplicates.\n",
    "    - Otherwise, we push the current character i onto the stack.\n",
    "4. Finally, we return the string formed by joining all the elements in the stack."
   ]
  },
  {
   "cell_type": "markdown",
   "metadata": {},
   "source": [
    "class Solution(object):\n",
    "    def removeDuplicates(self, s):\n",
    "        stack = []\n",
    "        for i in s:\n",
    "            if stack and stack[-1] == i:\n",
    "                stack.pop()\n",
    "            else:\n",
    "                stack.append(i)\n",
    "        return ''.join(stack)"
   ]
  }
 ],
 "metadata": {
  "kernelspec": {
   "display_name": "Python 3",
   "language": "python",
   "name": "python3"
  },
  "language_info": {
   "name": "python",
   "version": "3.12.1"
  }
 },
 "nbformat": 4,
 "nbformat_minor": 2
}
